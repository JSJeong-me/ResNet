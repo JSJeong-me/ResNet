{
  "nbformat": 4,
  "nbformat_minor": 0,
  "metadata": {
    "colab": {
      "name": "Roboflow-Image-Classifcation.ipynb",
      "provenance": [],
      "collapsed_sections": [],
      "include_colab_link": true
    },
    "kernelspec": {
      "name": "python3",
      "display_name": "Python 3"
    },
    "accelerator": "GPU",
    "widgets": {
      "application/vnd.jupyter.widget-state+json": {
        "0c832ef3a4584b69867600d4c365d01c": {
          "model_module": "@jupyter-widgets/controls",
          "model_name": "HBoxModel",
          "model_module_version": "1.5.0",
          "state": {
            "_view_name": "HBoxView",
            "_dom_classes": [],
            "_model_name": "HBoxModel",
            "_view_module": "@jupyter-widgets/controls",
            "_model_module_version": "1.5.0",
            "_view_count": null,
            "_view_module_version": "1.5.0",
            "box_style": "",
            "layout": "IPY_MODEL_72a5b384b4d348c7b04dc25fea73ea03",
            "_model_module": "@jupyter-widgets/controls",
            "children": [
              "IPY_MODEL_8664df386b0743b492bff36754e172be",
              "IPY_MODEL_3f5e879835ab4d6d8111c387855a475e",
              "IPY_MODEL_a91948fa6433480599a3c90336fe598f"
            ]
          }
        },
        "72a5b384b4d348c7b04dc25fea73ea03": {
          "model_module": "@jupyter-widgets/base",
          "model_name": "LayoutModel",
          "model_module_version": "1.2.0",
          "state": {
            "_view_name": "LayoutView",
            "grid_template_rows": null,
            "right": null,
            "justify_content": null,
            "_view_module": "@jupyter-widgets/base",
            "overflow": null,
            "_model_module_version": "1.2.0",
            "_view_count": null,
            "flex_flow": null,
            "width": null,
            "min_width": null,
            "border": null,
            "align_items": null,
            "bottom": null,
            "_model_module": "@jupyter-widgets/base",
            "top": null,
            "grid_column": null,
            "overflow_y": null,
            "overflow_x": null,
            "grid_auto_flow": null,
            "grid_area": null,
            "grid_template_columns": null,
            "flex": null,
            "_model_name": "LayoutModel",
            "justify_items": null,
            "grid_row": null,
            "max_height": null,
            "align_content": null,
            "visibility": null,
            "align_self": null,
            "height": null,
            "min_height": null,
            "padding": null,
            "grid_auto_rows": null,
            "grid_gap": null,
            "max_width": null,
            "order": null,
            "_view_module_version": "1.2.0",
            "grid_template_areas": null,
            "object_position": null,
            "object_fit": null,
            "grid_auto_columns": null,
            "margin": null,
            "display": null,
            "left": null
          }
        },
        "8664df386b0743b492bff36754e172be": {
          "model_module": "@jupyter-widgets/controls",
          "model_name": "HTMLModel",
          "model_module_version": "1.5.0",
          "state": {
            "_view_name": "HTMLView",
            "style": "IPY_MODEL_12e6519140214495b8354510393c752f",
            "_dom_classes": [],
            "description": "",
            "_model_name": "HTMLModel",
            "placeholder": "​",
            "_view_module": "@jupyter-widgets/controls",
            "_model_module_version": "1.5.0",
            "value": "100%",
            "_view_count": null,
            "_view_module_version": "1.5.0",
            "description_tooltip": null,
            "_model_module": "@jupyter-widgets/controls",
            "layout": "IPY_MODEL_9286614ab29447c3ac5a6f58dcc6416f"
          }
        },
        "3f5e879835ab4d6d8111c387855a475e": {
          "model_module": "@jupyter-widgets/controls",
          "model_name": "FloatProgressModel",
          "model_module_version": "1.5.0",
          "state": {
            "_view_name": "ProgressView",
            "style": "IPY_MODEL_bb2928435c4e41f5aab782db2b8efc3b",
            "_dom_classes": [],
            "description": "",
            "_model_name": "FloatProgressModel",
            "bar_style": "success",
            "max": 87319819,
            "_view_module": "@jupyter-widgets/controls",
            "_model_module_version": "1.5.0",
            "value": 87319819,
            "_view_count": null,
            "_view_module_version": "1.5.0",
            "orientation": "horizontal",
            "min": 0,
            "description_tooltip": null,
            "_model_module": "@jupyter-widgets/controls",
            "layout": "IPY_MODEL_a908cf85af5845aa8ef8f9112bc01da3"
          }
        },
        "a91948fa6433480599a3c90336fe598f": {
          "model_module": "@jupyter-widgets/controls",
          "model_name": "HTMLModel",
          "model_module_version": "1.5.0",
          "state": {
            "_view_name": "HTMLView",
            "style": "IPY_MODEL_67b297b0cf1b48328bda4542b94cd4ed",
            "_dom_classes": [],
            "description": "",
            "_model_name": "HTMLModel",
            "placeholder": "​",
            "_view_module": "@jupyter-widgets/controls",
            "_model_module_version": "1.5.0",
            "value": " 83.3M/83.3M [00:02&lt;00:00, 47.7MB/s]",
            "_view_count": null,
            "_view_module_version": "1.5.0",
            "description_tooltip": null,
            "_model_module": "@jupyter-widgets/controls",
            "layout": "IPY_MODEL_953001e98ed0437593ed6a729334edd4"
          }
        },
        "12e6519140214495b8354510393c752f": {
          "model_module": "@jupyter-widgets/controls",
          "model_name": "DescriptionStyleModel",
          "model_module_version": "1.5.0",
          "state": {
            "_view_name": "StyleView",
            "_model_name": "DescriptionStyleModel",
            "description_width": "",
            "_view_module": "@jupyter-widgets/base",
            "_model_module_version": "1.5.0",
            "_view_count": null,
            "_view_module_version": "1.2.0",
            "_model_module": "@jupyter-widgets/controls"
          }
        },
        "9286614ab29447c3ac5a6f58dcc6416f": {
          "model_module": "@jupyter-widgets/base",
          "model_name": "LayoutModel",
          "model_module_version": "1.2.0",
          "state": {
            "_view_name": "LayoutView",
            "grid_template_rows": null,
            "right": null,
            "justify_content": null,
            "_view_module": "@jupyter-widgets/base",
            "overflow": null,
            "_model_module_version": "1.2.0",
            "_view_count": null,
            "flex_flow": null,
            "width": null,
            "min_width": null,
            "border": null,
            "align_items": null,
            "bottom": null,
            "_model_module": "@jupyter-widgets/base",
            "top": null,
            "grid_column": null,
            "overflow_y": null,
            "overflow_x": null,
            "grid_auto_flow": null,
            "grid_area": null,
            "grid_template_columns": null,
            "flex": null,
            "_model_name": "LayoutModel",
            "justify_items": null,
            "grid_row": null,
            "max_height": null,
            "align_content": null,
            "visibility": null,
            "align_self": null,
            "height": null,
            "min_height": null,
            "padding": null,
            "grid_auto_rows": null,
            "grid_gap": null,
            "max_width": null,
            "order": null,
            "_view_module_version": "1.2.0",
            "grid_template_areas": null,
            "object_position": null,
            "object_fit": null,
            "grid_auto_columns": null,
            "margin": null,
            "display": null,
            "left": null
          }
        },
        "bb2928435c4e41f5aab782db2b8efc3b": {
          "model_module": "@jupyter-widgets/controls",
          "model_name": "ProgressStyleModel",
          "model_module_version": "1.5.0",
          "state": {
            "_view_name": "StyleView",
            "_model_name": "ProgressStyleModel",
            "description_width": "",
            "_view_module": "@jupyter-widgets/base",
            "_model_module_version": "1.5.0",
            "_view_count": null,
            "_view_module_version": "1.2.0",
            "bar_color": null,
            "_model_module": "@jupyter-widgets/controls"
          }
        },
        "a908cf85af5845aa8ef8f9112bc01da3": {
          "model_module": "@jupyter-widgets/base",
          "model_name": "LayoutModel",
          "model_module_version": "1.2.0",
          "state": {
            "_view_name": "LayoutView",
            "grid_template_rows": null,
            "right": null,
            "justify_content": null,
            "_view_module": "@jupyter-widgets/base",
            "overflow": null,
            "_model_module_version": "1.2.0",
            "_view_count": null,
            "flex_flow": null,
            "width": null,
            "min_width": null,
            "border": null,
            "align_items": null,
            "bottom": null,
            "_model_module": "@jupyter-widgets/base",
            "top": null,
            "grid_column": null,
            "overflow_y": null,
            "overflow_x": null,
            "grid_auto_flow": null,
            "grid_area": null,
            "grid_template_columns": null,
            "flex": null,
            "_model_name": "LayoutModel",
            "justify_items": null,
            "grid_row": null,
            "max_height": null,
            "align_content": null,
            "visibility": null,
            "align_self": null,
            "height": null,
            "min_height": null,
            "padding": null,
            "grid_auto_rows": null,
            "grid_gap": null,
            "max_width": null,
            "order": null,
            "_view_module_version": "1.2.0",
            "grid_template_areas": null,
            "object_position": null,
            "object_fit": null,
            "grid_auto_columns": null,
            "margin": null,
            "display": null,
            "left": null
          }
        },
        "67b297b0cf1b48328bda4542b94cd4ed": {
          "model_module": "@jupyter-widgets/controls",
          "model_name": "DescriptionStyleModel",
          "model_module_version": "1.5.0",
          "state": {
            "_view_name": "StyleView",
            "_model_name": "DescriptionStyleModel",
            "description_width": "",
            "_view_module": "@jupyter-widgets/base",
            "_model_module_version": "1.5.0",
            "_view_count": null,
            "_view_module_version": "1.2.0",
            "_model_module": "@jupyter-widgets/controls"
          }
        },
        "953001e98ed0437593ed6a729334edd4": {
          "model_module": "@jupyter-widgets/base",
          "model_name": "LayoutModel",
          "model_module_version": "1.2.0",
          "state": {
            "_view_name": "LayoutView",
            "grid_template_rows": null,
            "right": null,
            "justify_content": null,
            "_view_module": "@jupyter-widgets/base",
            "overflow": null,
            "_model_module_version": "1.2.0",
            "_view_count": null,
            "flex_flow": null,
            "width": null,
            "min_width": null,
            "border": null,
            "align_items": null,
            "bottom": null,
            "_model_module": "@jupyter-widgets/base",
            "top": null,
            "grid_column": null,
            "overflow_y": null,
            "overflow_x": null,
            "grid_auto_flow": null,
            "grid_area": null,
            "grid_template_columns": null,
            "flex": null,
            "_model_name": "LayoutModel",
            "justify_items": null,
            "grid_row": null,
            "max_height": null,
            "align_content": null,
            "visibility": null,
            "align_self": null,
            "height": null,
            "min_height": null,
            "padding": null,
            "grid_auto_rows": null,
            "grid_gap": null,
            "max_width": null,
            "order": null,
            "_view_module_version": "1.2.0",
            "grid_template_areas": null,
            "object_position": null,
            "object_fit": null,
            "grid_auto_columns": null,
            "margin": null,
            "display": null,
            "left": null
          }
        }
      }
    }
  },
  "cells": [
    {
      "cell_type": "markdown",
      "metadata": {
        "id": "view-in-github",
        "colab_type": "text"
      },
      "source": [
        "<a href=\"https://colab.research.google.com/github/JSJeong-me/ResNet/blob/main/Remocon_Image_Classifcation.ipynb\" target=\"_parent\"><img src=\"https://colab.research.google.com/assets/colab-badge.svg\" alt=\"Open In Colab\"/></a>"
      ]
    },
    {
      "cell_type": "markdown",
      "metadata": {
        "id": "iU73-rhTaMVI"
      },
      "source": [
        "# How to Train a Custom Resnet34 for Image Classification in fastai and PyTorch\n",
        "Can I computer tell the diffence between a daisy and a dandelion? The answer is yes\n",
        "\n",
        "\n",
        "This tutorial shows you how to train a state of the art image classification model with Resnet, in PyTorch, using the fastai library.\n",
        "\n",
        "### Accompanying Blog Post\n",
        "\n",
        "We recommend that you follow along in this notebook while reading the blog post on [how to train Resnet34 image classification model](https://blog.roboflow.ai/how-to-train-yolov5-on-a-custom-dataset/), concurrently.\n",
        "\n",
        "### Steps Covered in this Tutorial\n",
        "\n",
        "In this tutorial, we will walk through the steps required to train Resnet to recognize your custom classes. We use a [public flowers classification dataset](\n",
        "https://public.roboflow.com/classification/flowers_classification), which is open source and free to use. You can also use this notebook on your own data.\n",
        "\n",
        "To train our custom classifier we take the following steps:\n",
        "\n",
        "* Install fastai dependencies\n",
        "* Expand our training set via augmentations in Roboflow\n",
        "* Download custom classificatio data from Roboflow\n",
        "* Download pretrained Resnet Models\n",
        "* Run frozen Resent training in fastai\n",
        "* Find a favorable learning rate\n",
        "* Run unfrozen training\n",
        "* Inspect our model's evaluation metrics \n",
        "* Run Resnet inference on test images\n",
        "* Export saved Resnet weights for future inference\n"
      ]
    },
    {
      "cell_type": "markdown",
      "metadata": {
        "id": "kuydQ4JMnpqm"
      },
      "source": [
        "\n",
        "# Install fastai dependencies"
      ]
    },
    {
      "cell_type": "code",
      "metadata": {
        "id": "R8UumMi6Wp2J"
      },
      "source": [
        "!pip install fastai"
      ],
      "execution_count": null,
      "outputs": []
    },
    {
      "cell_type": "code",
      "metadata": {
        "id": "egMX0t6bW2v6"
      },
      "source": [
        "from fastai.vision import *"
      ],
      "execution_count": 2,
      "outputs": []
    },
    {
      "cell_type": "markdown",
      "metadata": {
        "id": "GbLk0inLnwpJ"
      },
      "source": [
        "# Download Custom Classification Data From Roboflow"
      ]
    },
    {
      "cell_type": "code",
      "metadata": {
        "colab": {
          "base_uri": "https://localhost:8080/"
        },
        "id": "ElFqfSo99Wpu",
        "outputId": "5fbe045c-6dd0-4665-ce5e-7b197076c1ec"
      },
      "source": [
        "#follow the link below to get your download code from from Roboflow\n",
        "!pip install -q roboflow\n",
        "from roboflow import Roboflow\n",
        "rf = Roboflow(model_format=\"folder\", notebook=\"roboflow-resnet\")"
      ],
      "execution_count": 3,
      "outputs": [
        {
          "output_type": "stream",
          "name": "stdout",
          "text": [
            "\u001b[?25l\r\u001b[K     |█▉                              | 10 kB 22.8 MB/s eta 0:00:01\r\u001b[K     |███▋                            | 20 kB 27.2 MB/s eta 0:00:01\r\u001b[K     |█████▌                          | 30 kB 29.0 MB/s eta 0:00:01\r\u001b[K     |███████▎                        | 40 kB 22.3 MB/s eta 0:00:01\r\u001b[K     |█████████▏                      | 51 kB 6.8 MB/s eta 0:00:01\r\u001b[K     |███████████                     | 61 kB 7.8 MB/s eta 0:00:01\r\u001b[K     |████████████▉                   | 71 kB 8.9 MB/s eta 0:00:01\r\u001b[K     |██████████████▋                 | 81 kB 9.8 MB/s eta 0:00:01\r\u001b[K     |████████████████▌               | 92 kB 10.8 MB/s eta 0:00:01\r\u001b[K     |██████████████████▎             | 102 kB 8.5 MB/s eta 0:00:01\r\u001b[K     |████████████████████▏           | 112 kB 8.5 MB/s eta 0:00:01\r\u001b[K     |██████████████████████          | 122 kB 8.5 MB/s eta 0:00:01\r\u001b[K     |███████████████████████▉        | 133 kB 8.5 MB/s eta 0:00:01\r\u001b[K     |█████████████████████████▋      | 143 kB 8.5 MB/s eta 0:00:01\r\u001b[K     |███████████████████████████▌    | 153 kB 8.5 MB/s eta 0:00:01\r\u001b[K     |█████████████████████████████▎  | 163 kB 8.5 MB/s eta 0:00:01\r\u001b[K     |███████████████████████████████▏| 174 kB 8.5 MB/s eta 0:00:01\r\u001b[K     |████████████████████████████████| 178 kB 8.5 MB/s \n",
            "\u001b[K     |████████████████████████████████| 1.1 MB 50.9 MB/s \n",
            "\u001b[K     |████████████████████████████████| 138 kB 57.0 MB/s \n",
            "\u001b[K     |████████████████████████████████| 596 kB 37.2 MB/s \n",
            "\u001b[K     |████████████████████████████████| 62 kB 730 kB/s \n",
            "\u001b[?25h  Building wheel for roboflow (setup.py) ... \u001b[?25l\u001b[?25hdone\n",
            "  Building wheel for wget (setup.py) ... \u001b[?25l\u001b[?25hdone\n",
            "\u001b[31mERROR: pip's dependency resolver does not currently take into account all the packages that are installed. This behaviour is the source of the following dependency conflicts.\n",
            "google-colab 1.0.0 requires requests~=2.23.0, but you have requests 2.26.0 which is incompatible.\n",
            "datascience 0.10.6 requires folium==0.2.1, but you have folium 0.8.3 which is incompatible.\n",
            "albumentations 0.1.12 requires imgaug<0.2.7,>=0.2.5, but you have imgaug 0.2.9 which is incompatible.\u001b[0m\n",
            "upload and label your dataset, and get an API KEY here: https://app.roboflow.com/?model=folder&ref=roboflow-resnet\n"
          ]
        }
      ]
    },
    {
      "cell_type": "code",
      "metadata": {
        "id": "penyE0IyXeC6",
        "colab": {
          "base_uri": "https://localhost:8080/"
        },
        "outputId": "6343e605-1dab-4063-bce3-1ff1d4254e9b"
      },
      "source": [
        "#dataset imported from Roboflow. You can sign up at roboflow.com and upload your image classification dataset\n",
        "# from roboflow import Roboflow\n",
        "# rf = Roboflow(api_key=\"YOUR_API_KEY\")\n",
        "# project = rf.workspace().project(\"YOUR_PROJECT\")\n",
        "# dataset = project.version(\"YOUR VERSION\").download(\"folder\")\n"
      ],
      "execution_count": null,
      "outputs": [
        {
          "output_type": "stream",
          "name": "stdout",
          "text": [
            "loading Roboflow workspace...\n",
            "loading Roboflow project...\n",
            "Downloading Dataset Version Zip in rock-paper-scissors-slim-1 to folder: 100% [132925 / 132925] bytes\n"
          ]
        },
        {
          "output_type": "stream",
          "name": "stderr",
          "text": [
            "Extracting Dataset Version Zip to rock-paper-scissors-slim-1 in folder:: 100%|██████████| 46/46 [00:00<00:00, 5755.91it/s]\n"
          ]
        }
      ]
    },
    {
      "cell_type": "code",
      "metadata": {
        "id": "IS5AGLKOBWx7"
      },
      "source": [
        "!unzip ./remocon.v1i.folder.zip"
      ],
      "execution_count": null,
      "outputs": []
    },
    {
      "cell_type": "code",
      "metadata": {
        "id": "8dqPTT7PQGGH"
      },
      "source": [
        "#dataset.location"
      ],
      "execution_count": null,
      "outputs": []
    },
    {
      "cell_type": "code",
      "metadata": {
        "id": "DyyE9YOkYx3Z",
        "colab": {
          "base_uri": "https://localhost:8080/"
        },
        "outputId": "7440b16f-bfc5-4411-c326-fb765ad521f1"
      },
      "source": [
        "#build fastai dataset loader\n",
        "np.random.seed(42)\n",
        "#fastai automatically factors the ./train and ./valid folders into seperate datasets\n",
        "#more details https://docs.fast.ai/vision.data.html#ImageDataLoaders.from_folder\n",
        "path = Path('./')\n",
        "data = ImageDataBunch.from_folder(path, size=224, num_workers=4).normalize(imagenet_stats)"
      ],
      "execution_count": 6,
      "outputs": [
        {
          "output_type": "stream",
          "name": "stderr",
          "text": [
            "/usr/local/lib/python3.7/dist-packages/torch/utils/data/dataloader.py:481: UserWarning: This DataLoader will create 4 worker processes in total. Our suggested max number of worker in current system is 2, which is smaller than what this DataLoader is going to create. Please be aware that excessive worker creation might get DataLoader running slow or even freeze, lower the worker number to avoid potential slowness/freeze if necessary.\n",
            "  cpuset_checked))\n"
          ]
        }
      ]
    },
    {
      "cell_type": "code",
      "metadata": {
        "id": "ce7sHGPOZCiA",
        "colab": {
          "base_uri": "https://localhost:8080/"
        },
        "outputId": "beeb836f-0c4d-4083-f169-5d660c037e2b"
      },
      "source": [
        "#double check the data classes\n",
        "data.classes"
      ],
      "execution_count": 7,
      "outputs": [
        {
          "output_type": "execute_result",
          "data": {
            "text/plain": [
              "['cup', 'eraser', 'remocon']"
            ]
          },
          "metadata": {},
          "execution_count": 7
        }
      ]
    },
    {
      "cell_type": "code",
      "metadata": {
        "id": "Rs5aqCT6ZjLv"
      },
      "source": [
        "#take a peak at the batch to make sure things were loaded correctly\n",
        "data.show_batch(rows=3, figsize=(7, 8))\n"
      ],
      "execution_count": null,
      "outputs": []
    },
    {
      "cell_type": "markdown",
      "metadata": {
        "id": "0iVCZ49FowXD"
      },
      "source": [
        "# Set up fastai Resnet model"
      ]
    },
    {
      "cell_type": "code",
      "metadata": {
        "id": "aqDLxhf3cb6-",
        "colab": {
          "base_uri": "https://localhost:8080/",
          "height": 156,
          "referenced_widgets": [
            "0c832ef3a4584b69867600d4c365d01c",
            "72a5b384b4d348c7b04dc25fea73ea03",
            "8664df386b0743b492bff36754e172be",
            "3f5e879835ab4d6d8111c387855a475e",
            "a91948fa6433480599a3c90336fe598f",
            "12e6519140214495b8354510393c752f",
            "9286614ab29447c3ac5a6f58dcc6416f",
            "bb2928435c4e41f5aab782db2b8efc3b",
            "a908cf85af5845aa8ef8f9112bc01da3",
            "67b297b0cf1b48328bda4542b94cd4ed",
            "953001e98ed0437593ed6a729334edd4"
          ]
        },
        "outputId": "50160f6b-4a4b-4f26-9d02-ba2b6cf8a40a"
      },
      "source": [
        "from fastai.metrics import error_rate # 1 - accuracy\n",
        "learn = create_cnn(data, models.resnet34, metrics=error_rate)"
      ],
      "execution_count": 9,
      "outputs": [
        {
          "output_type": "stream",
          "name": "stderr",
          "text": [
            "/usr/local/lib/python3.7/dist-packages/fastai/vision/learner.py:109: UserWarning: `create_cnn` is deprecated and is now named `cnn_learner`.\n",
            "  warn(\"`create_cnn` is deprecated and is now named `cnn_learner`.\")\n",
            "Downloading: \"https://download.pytorch.org/models/resnet34-b627a593.pth\" to /root/.cache/torch/hub/checkpoints/resnet34-b627a593.pth\n"
          ]
        },
        {
          "output_type": "display_data",
          "data": {
            "application/vnd.jupyter.widget-view+json": {
              "model_id": "0c832ef3a4584b69867600d4c365d01c",
              "version_minor": 0,
              "version_major": 2
            },
            "text/plain": [
              "  0%|          | 0.00/83.3M [00:00<?, ?B/s]"
            ]
          },
          "metadata": {}
        },
        {
          "output_type": "stream",
          "name": "stderr",
          "text": [
            "/usr/local/lib/python3.7/dist-packages/torch/nn/functional.py:718: UserWarning: Named tensors and all their associated APIs are an experimental feature and subject to change. Please do not use them for anything important until they are released as stable. (Triggered internally at  /pytorch/c10/core/TensorImpl.h:1156.)\n",
            "  return torch.max_pool2d(input, kernel_size, stride, padding, dilation, ceil_mode)\n"
          ]
        }
      ]
    },
    {
      "cell_type": "code",
      "metadata": {
        "id": "XFRjhrPFd8nW"
      },
      "source": [
        "#print network layers\n",
        "learn"
      ],
      "execution_count": null,
      "outputs": []
    },
    {
      "cell_type": "markdown",
      "metadata": {
        "id": "9FEfKeufpA98"
      },
      "source": [
        "# Train Custom Resnet Image Classifier"
      ]
    },
    {
      "cell_type": "code",
      "metadata": {
        "id": "NUisfLuMuuKF"
      },
      "source": [
        "from fastai.callbacks import *\n",
        "early_stop = EarlyStoppingCallback(learn, patience=20)\n",
        "save_best_model = SaveModelCallback(learn, name='best_resnet34')"
      ],
      "execution_count": 11,
      "outputs": []
    },
    {
      "cell_type": "code",
      "metadata": {
        "id": "QBC7GeNneAde",
        "colab": {
          "base_uri": "https://localhost:8080/",
          "height": 153
        },
        "outputId": "0d733ea3-f1b5-4c66-acf4-fb1ba47d5bc0"
      },
      "source": [
        "#frozen training step\n",
        "defaults.device = torch.device('cuda') # makes sure the gpu is used\n",
        "learn.fit_one_cycle(1, callbacks=[early_stop, save_best_model])"
      ],
      "execution_count": 12,
      "outputs": [
        {
          "output_type": "display_data",
          "data": {
            "text/html": [
              "<table border=\"1\" class=\"dataframe\">\n",
              "  <thead>\n",
              "    <tr style=\"text-align: left;\">\n",
              "      <th>epoch</th>\n",
              "      <th>train_loss</th>\n",
              "      <th>valid_loss</th>\n",
              "      <th>error_rate</th>\n",
              "      <th>time</th>\n",
              "    </tr>\n",
              "  </thead>\n",
              "  <tbody>\n",
              "    <tr>\n",
              "      <td>0</td>\n",
              "      <td>0.761920</td>\n",
              "      <td>0.658599</td>\n",
              "      <td>0.216216</td>\n",
              "      <td>02:16</td>\n",
              "    </tr>\n",
              "  </tbody>\n",
              "</table>"
            ],
            "text/plain": [
              "<IPython.core.display.HTML object>"
            ]
          },
          "metadata": {}
        },
        {
          "output_type": "stream",
          "name": "stderr",
          "text": [
            "/usr/local/lib/python3.7/dist-packages/torch/utils/data/dataloader.py:481: UserWarning: This DataLoader will create 4 worker processes in total. Our suggested max number of worker in current system is 2, which is smaller than what this DataLoader is going to create. Please be aware that excessive worker creation might get DataLoader running slow or even freeze, lower the worker number to avoid potential slowness/freeze if necessary.\n",
            "  cpuset_checked))\n"
          ]
        },
        {
          "output_type": "stream",
          "name": "stdout",
          "text": [
            "Better model found at epoch 0 with valid_loss value: 0.6585988998413086.\n"
          ]
        }
      ]
    },
    {
      "cell_type": "code",
      "metadata": {
        "id": "noVte6DcV6a0"
      },
      "source": [
        "#load best model from frozen training\n",
        "learn.load('best_resnet34')\n"
      ],
      "execution_count": null,
      "outputs": []
    },
    {
      "cell_type": "code",
      "metadata": {
        "id": "uX4ZsjuDeE_Q"
      },
      "source": [
        "learn.unfreeze()"
      ],
      "execution_count": 14,
      "outputs": []
    },
    {
      "cell_type": "code",
      "metadata": {
        "id": "U7bqlB4cY0H3"
      },
      "source": [
        "def find_appropriate_lr(model:Learner, lr_diff:int = 15, loss_threshold:float = .05, adjust_value:float = 1, plot:bool = False) -> float:\n",
        "    #Run the Learning Rate Finder\n",
        "    model.lr_find()\n",
        "    \n",
        "    #Get loss values and their corresponding gradients, and get lr values\n",
        "    losses = np.array(model.recorder.losses)\n",
        "    min_loss_index = np.argmin(losses)\n",
        "    \n",
        "    \n",
        "    #loss_grad = np.gradient(losses)\n",
        "    lrs = model.recorder.lrs\n",
        "    \n",
        "    #return the learning rate that produces the minimum loss divide by 10   \n",
        "    return lrs[min_loss_index] / 10"
      ],
      "execution_count": 15,
      "outputs": []
    },
    {
      "cell_type": "code",
      "metadata": {
        "id": "RrUI5qc-ecKy",
        "colab": {
          "base_uri": "https://localhost:8080/",
          "height": 167
        },
        "outputId": "2ed2bd4c-4954-479e-be16-80d6d5716f39"
      },
      "source": [
        "optimal_lr = find_appropriate_lr(learn)"
      ],
      "execution_count": 16,
      "outputs": [
        {
          "output_type": "display_data",
          "data": {
            "text/html": [
              "\n",
              "    <div>\n",
              "        <style>\n",
              "            /* Turns off some styling */\n",
              "            progress {\n",
              "                /* gets rid of default border in Firefox and Opera. */\n",
              "                border: none;\n",
              "                /* Needs to be in here for Safari polyfill so background images work as expected. */\n",
              "                background-size: auto;\n",
              "            }\n",
              "            .progress-bar-interrupted, .progress-bar-interrupted::-webkit-progress-bar {\n",
              "                background: #F44336;\n",
              "            }\n",
              "        </style>\n",
              "      <progress value='0' class='' max='15' style='width:300px; height:20px; vertical-align: middle;'></progress>\n",
              "      0.00% [0/15 00:00<00:00]\n",
              "    </div>\n",
              "    \n",
              "<table border=\"1\" class=\"dataframe\">\n",
              "  <thead>\n",
              "    <tr style=\"text-align: left;\">\n",
              "      <th>epoch</th>\n",
              "      <th>train_loss</th>\n",
              "      <th>valid_loss</th>\n",
              "      <th>error_rate</th>\n",
              "      <th>time</th>\n",
              "    </tr>\n",
              "  </thead>\n",
              "  <tbody>\n",
              "  </tbody>\n",
              "</table><p>\n",
              "\n",
              "    <div>\n",
              "        <style>\n",
              "            /* Turns off some styling */\n",
              "            progress {\n",
              "                /* gets rid of default border in Firefox and Opera. */\n",
              "                border: none;\n",
              "                /* Needs to be in here for Safari polyfill so background images work as expected. */\n",
              "                background-size: auto;\n",
              "            }\n",
              "            .progress-bar-interrupted, .progress-bar-interrupted::-webkit-progress-bar {\n",
              "                background: #F44336;\n",
              "            }\n",
              "        </style>\n",
              "      <progress value='1' class='' max='7' style='width:300px; height:20px; vertical-align: middle;'></progress>\n",
              "      14.29% [1/7 00:31<03:06 0.0102]\n",
              "    </div>\n",
              "    "
            ],
            "text/plain": [
              "<IPython.core.display.HTML object>"
            ]
          },
          "metadata": {}
        },
        {
          "output_type": "stream",
          "name": "stderr",
          "text": [
            "/usr/local/lib/python3.7/dist-packages/torch/utils/data/dataloader.py:481: UserWarning: This DataLoader will create 4 worker processes in total. Our suggested max number of worker in current system is 2, which is smaller than what this DataLoader is going to create. Please be aware that excessive worker creation might get DataLoader running slow or even freeze, lower the worker number to avoid potential slowness/freeze if necessary.\n",
            "  cpuset_checked))\n"
          ]
        },
        {
          "output_type": "stream",
          "name": "stdout",
          "text": [
            "LR Finder is complete, type {learner_name}.recorder.plot() to see the graph.\n"
          ]
        }
      ]
    },
    {
      "cell_type": "code",
      "metadata": {
        "id": "HhCKF-AWeiGY",
        "colab": {
          "base_uri": "https://localhost:8080/",
          "height": 153
        },
        "outputId": "0a499944-a61d-4d90-81d8-83dce396cd75"
      },
      "source": [
        "learn.fit_one_cycle(1, max_lr=slice(optimal_lr/10, optimal_lr), callbacks=[early_stop, save_best_model])\n"
      ],
      "execution_count": 17,
      "outputs": [
        {
          "output_type": "display_data",
          "data": {
            "text/html": [
              "<table border=\"1\" class=\"dataframe\">\n",
              "  <thead>\n",
              "    <tr style=\"text-align: left;\">\n",
              "      <th>epoch</th>\n",
              "      <th>train_loss</th>\n",
              "      <th>valid_loss</th>\n",
              "      <th>error_rate</th>\n",
              "      <th>time</th>\n",
              "    </tr>\n",
              "  </thead>\n",
              "  <tbody>\n",
              "    <tr>\n",
              "      <td>0</td>\n",
              "      <td>0.074784</td>\n",
              "      <td>0.389149</td>\n",
              "      <td>0.148649</td>\n",
              "      <td>03:20</td>\n",
              "    </tr>\n",
              "  </tbody>\n",
              "</table>"
            ],
            "text/plain": [
              "<IPython.core.display.HTML object>"
            ]
          },
          "metadata": {}
        },
        {
          "output_type": "stream",
          "name": "stderr",
          "text": [
            "/usr/local/lib/python3.7/dist-packages/torch/utils/data/dataloader.py:481: UserWarning: This DataLoader will create 4 worker processes in total. Our suggested max number of worker in current system is 2, which is smaller than what this DataLoader is going to create. Please be aware that excessive worker creation might get DataLoader running slow or even freeze, lower the worker number to avoid potential slowness/freeze if necessary.\n",
            "  cpuset_checked))\n"
          ]
        },
        {
          "output_type": "stream",
          "name": "stdout",
          "text": [
            "Better model found at epoch 0 with valid_loss value: 0.38914862275123596.\n"
          ]
        }
      ]
    },
    {
      "cell_type": "code",
      "metadata": {
        "id": "p3EXvjbMvCar"
      },
      "source": [
        "learn.load('best_resnet34')\n"
      ],
      "execution_count": null,
      "outputs": []
    },
    {
      "cell_type": "markdown",
      "metadata": {
        "id": "2UvDkO0cpTVN"
      },
      "source": [
        "# Evaluate Classifier Performance"
      ]
    },
    {
      "cell_type": "code",
      "metadata": {
        "id": "BW2G0iuXjb1K"
      },
      "source": [
        "interp = ClassificationInterpretation.from_learner(learn)\n",
        "interp.plot_confusion_matrix()\n"
      ],
      "execution_count": null,
      "outputs": []
    },
    {
      "cell_type": "code",
      "metadata": {
        "id": "LSRYrNIfjoOc"
      },
      "source": [
        "interp.plot_top_losses(9, figsize=(15,15))\n"
      ],
      "execution_count": null,
      "outputs": []
    },
    {
      "cell_type": "code",
      "metadata": {
        "id": "5le0t_k6jrca"
      },
      "source": [
        "#run inference on test images\n",
        "import glob\n",
        "from IPython.display import Image, display\n",
        "\n",
        "model = learn.model\n",
        "#model = model.cuda()\n",
        "for imageName in glob.glob('/content/test/*/*.jpg'):\n",
        "    print(imageName)\n",
        "    img = open_image(imageName)\n",
        "    prediction = learn.predict(img)\n",
        "    #print(prediction)\n",
        "    print(prediction[0])\n",
        "    display(Image(filename=imageName))\n",
        "    print(\"\\n\")"
      ],
      "execution_count": null,
      "outputs": []
    },
    {
      "cell_type": "markdown",
      "metadata": {
        "id": "bdoYCSqupcon"
      },
      "source": [
        "# Save custom classification model for future use"
      ]
    },
    {
      "cell_type": "code",
      "metadata": {
        "id": "iMbXW-l7jZ0e",
        "colab": {
          "base_uri": "https://localhost:8080/"
        },
        "outputId": "ef10137e-7f4e-4ecb-fe56-929a10f37f5c"
      },
      "source": [
        "#model is automatically saved with the \"save_best_model\" callback\n",
        "%ls models/"
      ],
      "execution_count": 21,
      "outputs": [
        {
          "output_type": "stream",
          "name": "stdout",
          "text": [
            "best_resnet34.pth  tmp.pth\n"
          ]
        }
      ]
    },
    {
      "cell_type": "code",
      "metadata": {
        "id": "zXlKfOeYZg9M",
        "colab": {
          "base_uri": "https://localhost:8080/",
          "height": 17
        },
        "outputId": "89daa57e-cd11-4fa0-82ea-77289c3f775a"
      },
      "source": [
        "from google.colab import files\n",
        "files.download('./models/best_resnet34.pth')"
      ],
      "execution_count": null,
      "outputs": [
        {
          "output_type": "display_data",
          "data": {
            "application/javascript": [
              "\n",
              "    async function download(id, filename, size) {\n",
              "      if (!google.colab.kernel.accessAllowed) {\n",
              "        return;\n",
              "      }\n",
              "      const div = document.createElement('div');\n",
              "      const label = document.createElement('label');\n",
              "      label.textContent = `Downloading \"${filename}\": `;\n",
              "      div.appendChild(label);\n",
              "      const progress = document.createElement('progress');\n",
              "      progress.max = size;\n",
              "      div.appendChild(progress);\n",
              "      document.body.appendChild(div);\n",
              "\n",
              "      const buffers = [];\n",
              "      let downloaded = 0;\n",
              "\n",
              "      const channel = await google.colab.kernel.comms.open(id);\n",
              "      // Send a message to notify the kernel that we're ready.\n",
              "      channel.send({})\n",
              "\n",
              "      for await (const message of channel.messages) {\n",
              "        // Send a message to notify the kernel that we're ready.\n",
              "        channel.send({})\n",
              "        if (message.buffers) {\n",
              "          for (const buffer of message.buffers) {\n",
              "            buffers.push(buffer);\n",
              "            downloaded += buffer.byteLength;\n",
              "            progress.value = downloaded;\n",
              "          }\n",
              "        }\n",
              "      }\n",
              "      const blob = new Blob(buffers, {type: 'application/binary'});\n",
              "      const a = document.createElement('a');\n",
              "      a.href = window.URL.createObjectURL(blob);\n",
              "      a.download = filename;\n",
              "      div.appendChild(a);\n",
              "      a.click();\n",
              "      div.remove();\n",
              "    }\n",
              "  "
            ],
            "text/plain": [
              "<IPython.core.display.Javascript object>"
            ]
          },
          "metadata": {
            "tags": []
          }
        },
        {
          "output_type": "display_data",
          "data": {
            "application/javascript": [
              "download(\"download_22cf34ab-0514-4e7e-9f2f-781ffdd9a677\", \"best_resnet34.pth\", 261998061)"
            ],
            "text/plain": [
              "<IPython.core.display.Javascript object>"
            ]
          },
          "metadata": {
            "tags": []
          }
        }
      ]
    }
  ]
}