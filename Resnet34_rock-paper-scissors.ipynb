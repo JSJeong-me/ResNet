{
  "nbformat": 4,
  "nbformat_minor": 0,
  "metadata": {
    "colab": {
      "name": "Resnet34-3class.ipynb",
      "provenance": [],
      "collapsed_sections": [],
      "machine_shape": "hm",
      "include_colab_link": true
    },
    "kernelspec": {
      "name": "python3",
      "display_name": "Python 3"
    },
    "accelerator": "GPU"
  },
  "cells": [
    {
      "cell_type": "markdown",
      "metadata": {
        "id": "view-in-github",
        "colab_type": "text"
      },
      "source": [
        "<a href=\"https://colab.research.google.com/github/JSJeong-me/ResNet/blob/main/Resnet34_rock-paper-scissors.ipynb\" target=\"_parent\"><img src=\"https://colab.research.google.com/assets/colab-badge.svg\" alt=\"Open In Colab\"/></a>"
      ]
    },
    {
      "cell_type": "markdown",
      "metadata": {
        "id": "iU73-rhTaMVI"
      },
      "source": [
        "# How to Train a Custom Resnet34 for Image Classification in fastai and PyTorch\n",
        "Can I computer tell the diffence between a daisy and a dandelion? The answer is yes\n",
        "\n",
        "\n",
        "This tutorial shows you how to train a state of the art image classification model with Resnet, in PyTorch, using the fastai library.\n",
        "\n",
        "### Accompanying Blog Post\n",
        "\n",
        "We recommend that you follow along in this notebook while reading the blog post on [how to train Resnet34 image classification model](https://blog.roboflow.ai/how-to-train-yolov5-on-a-custom-dataset/), concurrently.\n",
        "\n",
        "### Steps Covered in this Tutorial\n",
        "\n",
        "In this tutorial, we will walk through the steps required to train Resnet to recognize your custom classes. We use a [public flowers classification dataset](\n",
        "https://public.roboflow.com/classification/flowers_classification), which is open source and free to use. You can also use this notebook on your own data.\n",
        "\n",
        "To train our custom classifier we take the following steps:\n",
        "\n",
        "* Install fastai dependencies\n",
        "* Expand our training set via augmentations in Roboflow\n",
        "* Download custom classificatio data from Roboflow\n",
        "* Download pretrained Resnet Models\n",
        "* Run frozen Resent training in fastai\n",
        "* Find a favorable learning rate\n",
        "* Run unfrozen training\n",
        "* Inspect our model's evaluation metrics \n",
        "* Run Resnet inference on test images\n",
        "* Export saved Resnet weights for future inference\n",
        "\n"
      ]
    },
    {
      "cell_type": "markdown",
      "metadata": {
        "id": "kuydQ4JMnpqm"
      },
      "source": [
        "\n",
        "# Install fastai dependencies"
      ]
    },
    {
      "cell_type": "code",
      "metadata": {
        "id": "Z_oKaKmOZ-J_"
      },
      "source": [
        "!unzip ./rock-paper-scissors.zip"
      ],
      "execution_count": null,
      "outputs": []
    },
    {
      "cell_type": "code",
      "metadata": {
        "id": "R8UumMi6Wp2J"
      },
      "source": [
        "!pip install fastai"
      ],
      "execution_count": null,
      "outputs": []
    },
    {
      "cell_type": "code",
      "metadata": {
        "id": "egMX0t6bW2v6"
      },
      "source": [
        "from fastai.vision import *"
      ],
      "execution_count": null,
      "outputs": []
    },
    {
      "cell_type": "markdown",
      "metadata": {
        "id": "GbLk0inLnwpJ"
      },
      "source": [
        "# Downlaod Custom Classification Data From Roboflow"
      ]
    },
    {
      "cell_type": "markdown",
      "metadata": {
        "id": "xtDB15CvIIsx"
      },
      "source": [
        ""
      ]
    },
    {
      "cell_type": "code",
      "metadata": {
        "id": "DyyE9YOkYx3Z"
      },
      "source": [
        "#build fastai dataset loader\n",
        "np.random.seed(42)\n",
        "#fastai automatically factors the ./train and ./valid folders into seperate datasets\n",
        "#more details https://docs.fast.ai/vision.data.html#ImageDataLoaders.from_folder\n",
        "path = Path('/content/3class-2021-01-27')\n",
        "data = ImageDataBunch.from_folder(path, size=224, num_workers=4).normalize(imagenet_stats)"
      ],
      "execution_count": null,
      "outputs": []
    },
    {
      "cell_type": "code",
      "metadata": {
        "id": "ce7sHGPOZCiA"
      },
      "source": [
        "#double check the data classes\n",
        "data.classes"
      ],
      "execution_count": null,
      "outputs": []
    },
    {
      "cell_type": "code",
      "metadata": {
        "id": "Rs5aqCT6ZjLv"
      },
      "source": [
        "#take a peak at the batch to make sure things were loaded correctly\n",
        "data.show_batch(rows=3, figsize=(7, 8))\n"
      ],
      "execution_count": null,
      "outputs": []
    },
    {
      "cell_type": "markdown",
      "metadata": {
        "id": "0iVCZ49FowXD"
      },
      "source": [
        "# Set up fastai Resnet model"
      ]
    },
    {
      "cell_type": "code",
      "metadata": {
        "id": "aqDLxhf3cb6-"
      },
      "source": [
        "from fastai.metrics import error_rate # 1 - accuracy\n",
        "learn = create_cnn(data, models.resnet50, metrics=error_rate)"
      ],
      "execution_count": null,
      "outputs": []
    },
    {
      "cell_type": "code",
      "metadata": {
        "id": "XFRjhrPFd8nW"
      },
      "source": [
        "#print network layers\n",
        "learn"
      ],
      "execution_count": null,
      "outputs": []
    },
    {
      "cell_type": "markdown",
      "metadata": {
        "id": "9FEfKeufpA98"
      },
      "source": [
        "# Train Custom Resnet Image Classifier"
      ]
    },
    {
      "cell_type": "code",
      "metadata": {
        "id": "NUisfLuMuuKF"
      },
      "source": [
        "from fastai.callbacks import *\n",
        "early_stop = EarlyStoppingCallback(learn, patience=20)\n",
        "save_best_model = SaveModelCallback(learn, name='best_resnet34')"
      ],
      "execution_count": null,
      "outputs": []
    },
    {
      "cell_type": "code",
      "metadata": {
        "id": "QBC7GeNneAde"
      },
      "source": [
        "#frozen training step\n",
        "defaults.device = torch.device('cuda') # makes sure the gpu is used\n",
        "learn.fit_one_cycle(1, callbacks=[early_stop, save_best_model])"
      ],
      "execution_count": null,
      "outputs": []
    },
    {
      "cell_type": "code",
      "metadata": {
        "id": "noVte6DcV6a0"
      },
      "source": [
        "#load best model from frozen training\n",
        "learn.load('best_resnet34')\n"
      ],
      "execution_count": null,
      "outputs": []
    },
    {
      "cell_type": "code",
      "metadata": {
        "id": "uX4ZsjuDeE_Q"
      },
      "source": [
        "learn.unfreeze()"
      ],
      "execution_count": null,
      "outputs": []
    },
    {
      "cell_type": "code",
      "metadata": {
        "id": "U7bqlB4cY0H3"
      },
      "source": [
        "def find_appropriate_lr(model:Learner, lr_diff:int = 15, loss_threshold:float = .05, adjust_value:float = 1, plot:bool = False) -> float:\n",
        "    #Run the Learning Rate Finder\n",
        "    model.lr_find()\n",
        "    \n",
        "    #Get loss values and their corresponding gradients, and get lr values\n",
        "    losses = np.array(model.recorder.losses)\n",
        "    min_loss_index = np.argmin(losses)\n",
        "    \n",
        "    \n",
        "    #loss_grad = np.gradient(losses)\n",
        "    lrs = model.recorder.lrs\n",
        "    \n",
        "    #return the learning rate that produces the minimum loss divide by 10   \n",
        "    return lrs[min_loss_index] / 10"
      ],
      "execution_count": null,
      "outputs": []
    },
    {
      "cell_type": "code",
      "metadata": {
        "id": "RrUI5qc-ecKy"
      },
      "source": [
        "optimal_lr = find_appropriate_lr(learn)"
      ],
      "execution_count": null,
      "outputs": []
    },
    {
      "cell_type": "code",
      "metadata": {
        "id": "HhCKF-AWeiGY"
      },
      "source": [
        "learn.fit_one_cycle(50, max_lr=slice(optimal_lr/10, optimal_lr), callbacks=[early_stop, save_best_model])\n"
      ],
      "execution_count": null,
      "outputs": []
    },
    {
      "cell_type": "code",
      "metadata": {
        "id": "p3EXvjbMvCar"
      },
      "source": [
        "learn.load('best_resnet34')\n"
      ],
      "execution_count": null,
      "outputs": []
    },
    {
      "cell_type": "markdown",
      "metadata": {
        "id": "2UvDkO0cpTVN"
      },
      "source": [
        "# Evaluate Classifier Performance"
      ]
    },
    {
      "cell_type": "code",
      "metadata": {
        "id": "BW2G0iuXjb1K"
      },
      "source": [
        "interp = ClassificationInterpretation.from_learner(learn)\n",
        "interp.plot_confusion_matrix()\n"
      ],
      "execution_count": null,
      "outputs": []
    },
    {
      "cell_type": "code",
      "metadata": {
        "id": "LSRYrNIfjoOc"
      },
      "source": [
        "interp.plot_top_losses(9, figsize=(15,15))\n"
      ],
      "execution_count": null,
      "outputs": []
    },
    {
      "cell_type": "code",
      "metadata": {
        "id": "5le0t_k6jrca"
      },
      "source": [
        "#run inference on test images\n",
        "import glob\n",
        "from IPython.display import Image, display\n",
        "\n",
        "model = learn.model\n",
        "model = model.cuda()\n",
        "for imageName in glob.glob('/content/s2.jpg'):\n",
        "    print(imageName)\n",
        "    img = open_image(imageName)\n",
        "    prediction = learn.predict(img)\n",
        "    #print(prediction)\n",
        "    print(prediction[0])\n",
        "    display(Image(filename=imageName))\n",
        "    print(\"\\n\")"
      ],
      "execution_count": null,
      "outputs": []
    },
    {
      "cell_type": "markdown",
      "metadata": {
        "id": "bdoYCSqupcon"
      },
      "source": [
        "# Save custom classification model for future use"
      ]
    },
    {
      "cell_type": "code",
      "metadata": {
        "id": "iMbXW-l7jZ0e"
      },
      "source": [
        "#model is automatically saved with the \"save_best_model\" callback\n",
        "%ls models/"
      ],
      "execution_count": null,
      "outputs": []
    },
    {
      "cell_type": "code",
      "metadata": {
        "id": "etV5zN8FOa1m"
      },
      "source": [
        "from google.colab import drive\n",
        "drive.mount('/content/drive')"
      ],
      "execution_count": null,
      "outputs": []
    },
    {
      "cell_type": "code",
      "metadata": {
        "id": "zXlKfOeYZg9M"
      },
      "source": [
        "from google.colab import files\n",
        "files.download('./models/best_resnet34.pth')"
      ],
      "execution_count": null,
      "outputs": []
    },
    {
      "cell_type": "code",
      "metadata": {
        "id": "miSJjgU6PZ5Z"
      },
      "source": [
        ""
      ],
      "execution_count": null,
      "outputs": []
    }
  ]
}